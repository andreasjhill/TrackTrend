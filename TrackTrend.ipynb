{
 "cells": [
  {
   "cell_type": "code",
   "execution_count": null,
   "metadata": {},
   "outputs": [],
   "source": [
    "# conda install spotipy\n",
    "# conda install spotipy "
   ]
  },
  {
   "cell_type": "code",
   "execution_count": null,
   "metadata": {},
   "outputs": [],
   "source": [
    "#import dependancies\n",
    "import os\n",
    "import json\n",
    "import sys\n",
    "import requests\n",
    "import spotipy\n",
    "import spotipy.util as util\n",
    "import webbrowser\n",
    "from json.decoder import JSONDecodeError\n",
    "from spotipy.oauth2 import SpotifyClientCredentials, SpotifyOAuth"
   ]
  },
  {
   "cell_type": "code",
   "execution_count": null,
   "metadata": {},
   "outputs": [],
   "source": [
    "# Define the cache path relative to your notebook location\n",
    "cache_dir = '/Users/andreashill/Desktop/GitHub/TrackTrend/spotify_cache'\n",
    "if not os.path.exists(cache_dir):\n",
    "    os.makedirs(cache_dir)\n",
    "\n",
    "# Define the path to the cache file\n",
    "cache_path = os.path.join(cache_dir, '.cache')"
   ]
  },
  {
   "cell_type": "code",
   "execution_count": null,
   "metadata": {},
   "outputs": [],
   "source": [
    "client_id = 'b8f5b4512af3464f81a7f4f8d90e66b4'\n",
    "client_secret = 'c385bdb0a6334a7cb60960f087f1e51e'\n",
    "redirect_uri = 'http://localhost:8889/callback'\n",
    "\n",
    "# Define the scope (you might need to adjust this depending on the data you need)\n",
    "scope = \"playlist-read-private\"\n",
    "\n",
    "# Authenticate with Spotify\n",
    "# Create the SpotifyOAuth object\n",
    "auth_manager = SpotifyOAuth(client_id=client_id,\n",
    "                            client_secret=client_secret,\n",
    "                            redirect_uri=redirect_uri,\n",
    "                            scope=scope,\n",
    "                            cache_path=cache_path,\n",
    "                            show_dialog=True)"
   ]
  },
  {
   "cell_type": "code",
   "execution_count": null,
   "metadata": {},
   "outputs": [],
   "source": [
    "# Check for a cached token\n",
    "token_info = auth_manager.get_cached_token()\n",
    "\n",
    "if not token_info:\n",
    "    # If there's no cached token, get the authorization URL\n",
    "    auth_url = auth_manager.get_authorize_url()\n",
    "    print(f\"Please go to this URL and authorize the application: {auth_url}\")\n",
    "    \n",
    "    # Wait for the user to authorize and get the redirected URL\n",
    "    response = input(\"Enter the URL you were redirected to: \")\n",
    "    \n",
    "    # Extract the code from the response and get the token\n",
    "    code = auth_manager.parse_response_code(response)\n",
    "    token_info = auth_manager.get_access_token(code)\n"
   ]
  },
  {
   "cell_type": "code",
   "execution_count": null,
   "metadata": {},
   "outputs": [],
   "source": [
    "# Create the Spotify client\n",
    "sp = spotipy.Spotify(auth_manager=auth_manager)\n",
    "\n",
    "print(\"Authentication successful. You can now use the 'sp' object to make API calls.\")\n",
    "\n",
    "# Verify the connection\n",
    "current_user = sp.current_user()\n",
    "print(f\"Logged in as: {current_user['display_name']}\")"
   ]
  },
  {
   "cell_type": "code",
   "execution_count": null,
   "metadata": {},
   "outputs": [],
   "source": [
    "# Global Top 50 playlist ID (this ID can change over time; you may need to verify it)\n",
    "playlist_id = '37i9dQZEVXbMDoHDwVN2tF'\n",
    "\n",
    "# Fetch the playlist\n",
    "playlist = sp.playlist(playlist_id)\n",
    "\n",
    "# Fetch the first 50 tracks (Top 50)\n",
    "top_tracks = playlist['tracks']['items']"
   ]
  },
  {
   "cell_type": "code",
   "execution_count": null,
   "metadata": {},
   "outputs": [],
   "source": [
    "track_name= 'your track name'\n",
    "results = sp.search(q=track_name, type='track')\n",
    "track_uri = results['tracks']['items'][0]['uri']"
   ]
  }
 ],
 "metadata": {
  "language_info": {
   "name": "python"
  }
 },
 "nbformat": 4,
 "nbformat_minor": 2
}
