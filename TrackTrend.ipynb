{
 "cells": [
  {
   "cell_type": "code",
   "execution_count": 7,
   "id": "b2944719-a2bb-4c99-a852-76a617c54dd9",
   "metadata": {},
   "outputs": [
    {
     "name": "stdout",
     "output_type": "stream",
     "text": [
      "Retrieving notices: ...working... done\n",
      "Channels:\n",
      " - defaults\n",
      "Platform: osx-arm64\n",
      "Collecting package metadata (repodata.json): done\n",
      "Solving environment: failed\n",
      "\n",
      "PackagesNotFoundError: The following packages are not available from current channels:\n",
      "\n",
      "  - spotipy\n",
      "\n",
      "Current channels:\n",
      "\n",
      "  - defaults\n",
      "  - https://repo.anaconda.com/pkgs/free\n",
      "\n",
      "To search for alternate channels that may provide the conda package you're\n",
      "looking for, navigate to\n",
      "\n",
      "    https://anaconda.org\n",
      "\n",
      "and use the search bar at the top of the page.\n",
      "\n",
      "\n",
      "\n",
      "Note: you may need to restart the kernel to use updated packages.\n"
     ]
    }
   ],
   "source": [
    "conda install spotipy\n",
    "conda install spotipy pandas"
   ]
  },
  {
   "cell_type": "code",
   "execution_count": 5,
   "id": "f4f7aa4f-9558-4cf0-a357-fb4e3222693a",
   "metadata": {},
   "outputs": [],
   "source": [
    "#import dependancies\n",
    "import spotipy\n",
    "from spotipy.oauth2 import SpotifyClientCredentials"
   ]
  },
  {
   "cell_type": "code",
   "execution_count": 7,
   "id": "b17eebba-a3ca-4f1a-a59e-43c4efe8fa57",
   "metadata": {},
   "outputs": [],
   "source": [
    "#Client info variables \n",
    "client_id = 'b8f5b4512af3464f81a7f4f8d90e66b4'\n",
    "client_secret = 'c385bdb0a6334a7cb60960f087f1e51e'\n",
    "\n",
    "#Authenticate\n",
    "client_credentials_manager = SpotifyClientCredentials(client_id=client_id, client_secret=client_secret)\n",
    "sp = spotipy.Spotify(client_credentials_manager=client_credentials_manager)\n"
   ]
  },
  {
   "cell_type": "code",
   "execution_count": 9,
   "id": "bfaad18b-8bf5-46ba-8bbd-416ec314aab8",
   "metadata": {},
   "outputs": [
    {
     "name": "stderr",
     "output_type": "stream",
     "text": [
      "Couldn't read cache at: .cache\n",
      "Couldn't write token to cache at: .cache\n"
     ]
    }
   ],
   "source": [
    "def get_top_tracks_by_genre(genre, limit=50):\n",
    "    results = sp.search(q=f'genre:{genre}', type='track', limit=limit)\n",
    "    tracks = []\n",
    "    \n",
    "    for track in results['tracks']['items']:\n",
    "        track_info = {\n",
    "            'track_name': track['name'],\n",
    "            'artist_name': track['artists'][0]['name'],\n",
    "            'album_name': track['album']['name'],\n",
    "            'release_date': track['album']['release_date'],\n",
    "            'popularity': track['popularity'],\n",
    "            'genre': genre\n",
    "        }\n",
    "        tracks.append(track_info)\n",
    "    \n",
    "    return tracks\n",
    "\n",
    "# Example usage\n",
    "genre = 'pop'\n",
    "top_tracks = get_top_tracks_by_genre(genre)"
   ]
  },
  {
   "cell_type": "code",
   "execution_count": 11,
   "id": "2a412bfa-e597-4d63-a28d-1410704bb352",
   "metadata": {},
   "outputs": [
    {
     "name": "stdout",
     "output_type": "stream",
     "text": [
      "/Users/andreashill\n"
     ]
    }
   ],
   "source": [
    "import os \n",
    "print(os.getcwd())"
   ]
  },
  {
   "cell_type": "code",
   "execution_count": null,
   "id": "3739d729-5ec7-4aea-8c46-9dc91032d23c",
   "metadata": {},
   "outputs": [],
   "source": []
  }
 ],
 "metadata": {
  "kernelspec": {
   "display_name": "Python 3 (ipykernel)",
   "language": "python",
   "name": "python3"
  },
  "language_info": {
   "codemirror_mode": {
    "name": "ipython",
    "version": 3
   },
   "file_extension": ".py",
   "mimetype": "text/x-python",
   "name": "python",
   "nbconvert_exporter": "python",
   "pygments_lexer": "ipython3",
   "version": "3.10.14"
  }
 },
 "nbformat": 4,
 "nbformat_minor": 5
}
