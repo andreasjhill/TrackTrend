{
 "cells": [
  {
   "cell_type": "code",
   "execution_count": null,
   "id": "53a9d7c8-6309-4099-be32-dc3760222559",
   "metadata": {},
   "outputs": [],
   "source": [
    "#set up plotting style \n",
    "sns.set_theme()\n",
    "\n",
    "# Create a figure with multiple subplots\n",
    "fig, axes = plt.subplots(2, 2, figsize=(16, 12))\n",
    "\n",
    "# 1. Popularity distribution\n",
    "sns.histplot(data=df, x='popularity', kde=True, ax=axes[0, 0])\n",
    "axes[0, 0].set_title('Distribution of Track Popularity')\n",
    "axes[0, 0].set_xlabel('Popularity')\n",
    "\n",
    "# 2. Top 10 artists by track count\n",
    "top_artists = df['artist'].value_counts().head(10)\n",
    "sns.barplot(x=top_artists.values, y=top_artists.index, ax=axes[0, 1])\n",
    "axes[0, 1].set_title('Top 10 Artists by Track Count')\n",
    "axes[0, 1].set_xlabel('Number of Tracks')\n",
    "\n",
    "# 3. Correlation between popularity and other numeric features\n",
    "numeric_cols = df.select_dtypes(include=[np.number]).columns\n",
    "correlations = df[numeric_cols].corr()['popularity'].sort_values(ascending=False)\n",
    "sns.barplot(x=correlations.values[1:], y=correlations.index[1:], ax=axes[1, 1])\n",
    "axes[1, 1].set_title('Correlation with Popularity')\n",
    "axes[1, 1].set_xlabel('Correlation Coefficient')\n",
    "\n",
    "plt.tight_layout()\n",
    "plt.show()"
   ]
  }
 ],
 "metadata": {
  "kernelspec": {
   "display_name": "Python 3 (ipykernel)",
   "language": "python",
   "name": "python3"
  },
  "language_info": {
   "codemirror_mode": {
    "name": "ipython",
    "version": 3
   },
   "file_extension": ".py",
   "mimetype": "text/x-python",
   "name": "python",
   "nbconvert_exporter": "python",
   "pygments_lexer": "ipython3",
   "version": "3.10.13"
  }
 },
 "nbformat": 4,
 "nbformat_minor": 5
}
