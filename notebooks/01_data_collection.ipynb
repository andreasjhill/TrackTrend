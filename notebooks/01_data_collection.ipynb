{
 "cells": [
  {
   "cell_type": "code",
   "execution_count": 7,
   "metadata": {},
   "outputs": [],
   "source": [
    "import sys\n",
    "from pathlib import Path\n",
    "\n",
    "# Add the project root to the Python path\n",
    "project_root = Path.cwd().parent\n",
    "sys.path.append(str(project_root))\n",
    "\n",
    "# Now you can import from src\n",
    "from src.spotify_api import get_spotify_client, get_top_50_tracks\n",
    "from src.database import init_db, insert_tracks, prepare_tracks_data"
   ]
  },
  {
   "cell_type": "code",
   "execution_count": 8,
   "metadata": {},
   "outputs": [
    {
     "name": "stdout",
     "output_type": "stream",
     "text": [
      "Data collection complete.\n"
     ]
    }
   ],
   "source": [
    "# Set up paths\n",
    "root_dir = Path.cwd().parent\n",
    "db_path = root_dir / 'data' / 'spotify_tracks.db'\n",
    "\n",
    "# Initialize database\n",
    "init_db(db_path)\n",
    "\n",
    "# Get Spotify data\n",
    "sp = get_spotify_client()\n",
    "top_tracks = get_top_50_tracks(sp)\n",
    "\n",
    "# Prepare and insert data\n",
    "tracks_data = prepare_tracks_data(top_tracks)\n",
    "insert_tracks(tracks_data, db_path)\n",
    "\n",
    "print(\"Data collection complete.\")"
   ]
  },
  {
   "cell_type": "code",
   "execution_count": null,
   "metadata": {},
   "outputs": [],
   "source": []
  }
 ],
 "metadata": {
  "kernelspec": {
   "display_name": "Python 3 (ipykernel)",
   "language": "python",
   "name": "python3"
  },
  "language_info": {
   "codemirror_mode": {
    "name": "ipython",
    "version": 3
   },
   "file_extension": ".py",
   "mimetype": "text/x-python",
   "name": "python",
   "nbconvert_exporter": "python",
   "pygments_lexer": "ipython3",
   "version": "3.10.13"
  }
 },
 "nbformat": 4,
 "nbformat_minor": 4
}
