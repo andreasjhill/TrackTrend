{
 "cells": [
  {
   "cell_type": "code",
   "execution_count": 4,
   "id": "ffe83cfa-1a87-41e4-ac9d-9b3c48053946",
   "metadata": {},
   "outputs": [],
   "source": [
    "# Import necessary libraries\n",
    "\n",
    "import sqlite3\n",
    "import pandas as pd\n",
    "import matplotlib.pyplot as plt\n",
    "import seaborn as sns\n",
    "import numpy as np\n",
    "from sklearn.preprocessing import MinMaxScaler\n",
    "from pathlib import Path"
   ]
  },
  {
   "cell_type": "code",
   "execution_count": 5,
   "id": "44f2a340-eaae-4247-bdd5-7bb48a49467e",
   "metadata": {},
   "outputs": [],
   "source": [
    "# Connect to the database\n",
    "\n",
    "root_dir = Path.cwd().parent\n",
    "db_path = root_dir / 'data' / 'spotify_tracks.db'\n",
    "conn = sqlite3.connect(db_path)"
   ]
  },
  {
   "cell_type": "code",
   "execution_count": 6,
   "id": "b40ffde4-3f2c-4f06-8bb8-81fd1d92b3c6",
   "metadata": {},
   "outputs": [],
   "source": [
    "# Load data into a DataFrame\n",
    "df = pd.read_sql_query(\"SELECT * FROM tracks\", conn)"
   ]
  },
  {
   "cell_type": "code",
   "execution_count": 10,
   "id": "182dbb0e-0ec0-4983-8f1e-6d7e0703e53a",
   "metadata": {},
   "outputs": [
    {
     "name": "stdout",
     "output_type": "stream",
     "text": [
      "<class 'pandas.core.frame.DataFrame'>\n",
      "RangeIndex: 50 entries, 0 to 49\n",
      "Data columns (total 19 columns):\n",
      " #   Column            Non-Null Count  Dtype  \n",
      "---  ------            --------------  -----  \n",
      " 0   date              50 non-null     object \n",
      " 1   rank              50 non-null     int64  \n",
      " 2   track_id          50 non-null     object \n",
      " 3   name              50 non-null     object \n",
      " 4   artist            50 non-null     object \n",
      " 5   popularity        50 non-null     int64  \n",
      " 6   danceability      50 non-null     float64\n",
      " 7   energy            50 non-null     float64\n",
      " 8   key               50 non-null     int64  \n",
      " 9   loudness          50 non-null     float64\n",
      " 10  mode              50 non-null     int64  \n",
      " 11  speechiness       50 non-null     float64\n",
      " 12  acousticness      50 non-null     float64\n",
      " 13  instrumentalness  50 non-null     float64\n",
      " 14  liveness          50 non-null     float64\n",
      " 15  valence           50 non-null     float64\n",
      " 16  tempo             50 non-null     float64\n",
      " 17  duration_ms       50 non-null     int64  \n",
      " 18  time_signature    50 non-null     int64  \n",
      "dtypes: float64(9), int64(6), object(4)\n",
      "memory usage: 7.5+ KB\n",
      "None\n",
      "         date  rank                track_id                name  \\\n",
      "0  2024-09-05     1  2plbrEY59IikOBgBGLjaoe    Die With A Smile   \n",
      "1  2024-09-05     2  6dOtVTDdiauQNBQEDOtlAB  BIRDS OF A FEATHER   \n",
      "2  2024-09-05     3  5G2f63n7IPVPPjfNIGih7Q               Taste   \n",
      "3  2024-09-05     4  7tI8dRuH2Yc6RuoTjxo4dU                 Who   \n",
      "4  2024-09-05     5  2qSkIjg1o9h3YT9RAgYN75            Espresso   \n",
      "\n",
      "              artist  popularity  danceability  energy  key  loudness  mode  \\\n",
      "0          Lady Gaga          96         0.521   0.592    6    -7.777     0   \n",
      "1      Billie Eilish         100         0.747   0.507    2   -10.171     1   \n",
      "2  Sabrina Carpenter          93         0.674   0.907    3    -4.086     1   \n",
      "3              Jimin          94         0.660   0.756    0    -3.743     0   \n",
      "4  Sabrina Carpenter          97         0.701   0.760    0    -5.478     1   \n",
      "\n",
      "   speechiness  acousticness  instrumentalness  liveness  valence    tempo  \\\n",
      "0       0.0304       0.30800          0.000000     0.122    0.535  157.969   \n",
      "1       0.0358       0.20000          0.060800     0.117    0.438  104.978   \n",
      "2       0.0640       0.10100          0.000000     0.297    0.721  112.964   \n",
      "3       0.0320       0.00289          0.000000     0.193    0.838  116.034   \n",
      "4       0.0285       0.10700          0.000065     0.185    0.690  103.969   \n",
      "\n",
      "   duration_ms  time_signature  \n",
      "0       251668               3  \n",
      "1       210373               4  \n",
      "2       157280               4  \n",
      "3       170888               4  \n",
      "4       175459               4  \n"
     ]
    }
   ],
   "source": [
    "#print data information\n",
    "print(df.info())\n",
    "print(df.head())"
   ]
  },
  {
   "cell_type": "code",
   "execution_count": 12,
   "id": "48175b79-b6fb-4c00-b5c3-9f70760a1d64",
   "metadata": {},
   "outputs": [],
   "source": [
    "#change rank and popularity to via safecasting\n",
    "df['rank'] = pd.to_numeric(df['rank'], downcast='integer')\n",
    "df['popularity'] = pd.to_numeric(df['popularity'], downcast='integer')"
   ]
  },
  {
   "cell_type": "code",
   "execution_count": 14,
   "id": "a0af47f1-f65b-4975-b950-b29f38605d28",
   "metadata": {},
   "outputs": [
    {
     "name": "stdout",
     "output_type": "stream",
     "text": [
      "Index                128\n",
      "date                3350\n",
      "rank                  50\n",
      "track_id            3950\n",
      "name                3727\n",
      "artist              3398\n",
      "popularity            50\n",
      "danceability         400\n",
      "energy               400\n",
      "key                  400\n",
      "loudness             400\n",
      "mode                 400\n",
      "speechiness          400\n",
      "acousticness         400\n",
      "instrumentalness     400\n",
      "liveness             400\n",
      "valence              400\n",
      "tempo                400\n",
      "duration_ms          400\n",
      "time_signature       400\n",
      "dtype: int64\n"
     ]
    }
   ],
   "source": [
    "print(df.memory_usage(deep=True))"
   ]
  },
  {
   "cell_type": "code",
   "execution_count": 16,
   "id": "009f88f2-53d2-44b5-a2f1-faaf2138f0d5",
   "metadata": {},
   "outputs": [
    {
     "name": "stdout",
     "output_type": "stream",
     "text": [
      "date                0\n",
      "rank                0\n",
      "track_id            0\n",
      "name                0\n",
      "artist              0\n",
      "popularity          0\n",
      "danceability        0\n",
      "energy              0\n",
      "key                 0\n",
      "loudness            0\n",
      "mode                0\n",
      "speechiness         0\n",
      "acousticness        0\n",
      "instrumentalness    0\n",
      "liveness            0\n",
      "valence             0\n",
      "tempo               0\n",
      "duration_ms         0\n",
      "time_signature      0\n",
      "dtype: int64\n"
     ]
    }
   ],
   "source": [
    "print(df.isnull().sum())"
   ]
  },
  {
   "cell_type": "code",
   "execution_count": 18,
   "id": "da074d1a-db55-497b-a054-6650e61f8ea2",
   "metadata": {},
   "outputs": [
    {
     "name": "stdout",
     "output_type": "stream",
     "text": [
      "           rank  popularity  danceability     energy        key   loudness  \\\n",
      "count  50.00000   50.000000     50.000000  50.000000  50.000000  50.000000   \n",
      "mean   25.50000   89.080000      0.642240   0.674320   6.220000  -6.039760   \n",
      "std    14.57738    7.102285      0.144203   0.158599   3.764984   2.016525   \n",
      "min     1.00000   53.000000      0.264000   0.247000   0.000000 -12.002000   \n",
      "25%    13.25000   88.000000      0.546750   0.583750   3.000000  -7.376250   \n",
      "50%    25.50000   91.000000      0.664500   0.699500   7.000000  -5.606000   \n",
      "75%    37.75000   92.000000      0.745750   0.759750   9.000000  -4.690250   \n",
      "max    50.00000  100.000000      0.924000   0.957000  11.000000  -2.777000   \n",
      "\n",
      "            mode  speechiness  acousticness  instrumentalness   liveness  \\\n",
      "count  50.000000    50.000000     50.000000         50.000000  50.000000   \n",
      "mean    0.620000     0.056448      0.162443          0.020785   0.140302   \n",
      "std     0.490314     0.043278      0.198997          0.072493   0.097930   \n",
      "min     0.000000     0.025600      0.000938          0.000000   0.039800   \n",
      "25%     0.000000     0.034375      0.031150          0.000000   0.088700   \n",
      "50%     1.000000     0.042900      0.091550          0.000005   0.109500   \n",
      "75%     1.000000     0.059600      0.215000          0.000538   0.143750   \n",
      "max     1.000000     0.275000      0.969000          0.336000   0.641000   \n",
      "\n",
      "         valence       tempo    duration_ms  time_signature  \n",
      "count  50.000000   50.000000      50.000000       50.000000  \n",
      "mean    0.561200  124.387540  192421.580000        3.900000  \n",
      "std     0.250485   28.020391   39432.004236        0.364216  \n",
      "min     0.100000   67.528000   86984.000000        3.000000  \n",
      "25%     0.333500  104.221250  171414.750000        4.000000  \n",
      "50%     0.608500  124.023500  183753.500000        4.000000  \n",
      "75%     0.745000  142.063000  216490.250000        4.000000  \n",
      "max     0.962000  181.489000  289533.000000        5.000000  \n"
     ]
    }
   ],
   "source": [
    "print(df.describe())"
   ]
  },
  {
   "cell_type": "code",
   "execution_count": 20,
   "id": "59c4e081-f4f0-4816-ad39-e2e23b3b63de",
   "metadata": {},
   "outputs": [
    {
     "name": "stdout",
     "output_type": "stream",
     "text": [
      "\n",
      "Unique values in date:\n",
      "date\n",
      "2024-09-05    50\n",
      "Name: count, dtype: int64\n",
      "\n",
      "Unique values in track_id:\n",
      "track_id\n",
      "2plbrEY59IikOBgBGLjaoe    1\n",
      "3QaPy1KgI7nu9FJEQUgn6h    1\n",
      "102YUQbYmwdBXS7jwamI90    1\n",
      "5XeFesFbtLpXzIVDNQP22n    1\n",
      "1BJJbSX6muJVF2AK7uH1x4    1\n",
      "4xdBrk0nFZaP54vvZj0yx7    1\n",
      "3qhlB30KknSejmIvZZLjOD    1\n",
      "3AJwUDP919kvQ9QcozQPxg    1\n",
      "1BxfuPKGuaTgP7aM0Bbdwr    1\n",
      "3JG1uFc40wfyrqaWC7iv0e    1\n",
      "2uqYupMHANxnwgeiXTZXzd    1\n",
      "3Vr3zh0r7ALn8VLqCiRR10    1\n",
      "21B4gaTWnTkuSh77iWEXdS    1\n",
      "6dOtVTDdiauQNBQEDOtlAB    1\n",
      "51rfRCiUSvxXlCSCfIztBy    1\n",
      "2gmd7lY3QSzLh0xIY4cRvi    1\n",
      "1XBYiRV30ykHw5f4wm6qEn    1\n",
      "2mtVxf50BYsKNtQoz8sfzm    1\n",
      "7bywjHOc0wSjGGbj04XbVi    1\n",
      "42wdz3j7gstgUuhoFLCXqd    1\n",
      "7KA4W4McWYRpgf0fWsJZWB    1\n",
      "42VsgItocQwOQC3XWZ8JNA    1\n",
      "51eSHglvG1RJXtL3qI5trr    1\n",
      "19RybK6XDbAVpcdxSbZL1o    1\n",
      "5496lks6V3fh1mZAB6IAap    1\n",
      "51ZQ1vr10ffzbwIjDCwqm4    1\n",
      "7ov3TDp5D00Rnu5R1viX4w    1\n",
      "0QZ5yyl6B6utIWkxeBDxQN    1\n",
      "5G2f63n7IPVPPjfNIGih7Q    1\n",
      "7tI8dRuH2Yc6RuoTjxo4dU    1\n",
      "2qSkIjg1o9h3YT9RAgYN75    1\n",
      "5N3hjp1WNayUPZrA8kJmJP    1\n",
      "6WatFBLVB0x077xWeoVc2k    1\n",
      "0WbMK4wrZ1wFSty9F7FCgu    1\n",
      "1UHS8Rf6h5Ar3CDWRd3wjF    1\n",
      "3xkHsmpQCBMytMJNiDf3Ii    1\n",
      "0AjmK0Eai4zGrLaJwPvrDp    1\n",
      "0OA00aPt3BV10qeMIs3meW    1\n",
      "5fZJQrFKWQLb7FpJXZ1g7K    1\n",
      "17phhZDn6oGtzMe56NuWvj    1\n",
      "3WOhcATHxK2SLNeP5W3v1v    1\n",
      "62bOmKYxYg7dhrC6gH9vFn    1\n",
      "5IZXB5IKAD2qlvTPJYDCFB    1\n",
      "2esZG2XFtuoWWA9AfDvSxy    1\n",
      "2QjOHCTQ1Jl3zawyYOpxh6    1\n",
      "5QjmUqgpPQgXgg4606DqZF    1\n",
      "5AJ9hqTS2wcFQCELCFRO7A    1\n",
      "7CyPwkp0oE8Ro9Dd5CUDjW    1\n",
      "6AI3ezQ4o3HUoP6Dhudph3    1\n",
      "2HRgqmZQC0MC7GeNuDIXHN    1\n",
      "Name: count, dtype: int64\n",
      "\n",
      "Unique values in name:\n",
      "name\n",
      "Die With A Smile                                        1\n",
      "WILDFLOWER                                              1\n",
      "Good Graces                                             1\n",
      "I Wanna Be Yours                                        1\n",
      "Move                                                    1\n",
      "HOT TO GO!                                              1\n",
      "End of Beginning                                        1\n",
      "Yellow                                                  1\n",
      "Cruel Summer                                            1\n",
      "i like the way you kiss me                              1\n",
      "Austin (Boots Stop Workin')                             1\n",
      "Stargazing                                              1\n",
      "Juno                                                    1\n",
      "BIRDS OF A FEATHER                                      1\n",
      "I Love You, I'm Sorry                                   1\n",
      "SE ME OLVIDA                                            1\n",
      "NIGHTS LIKE THIS                                        1\n",
      "Iris                                                    1\n",
      "LUNA                                                    1\n",
      "PELIGROSA                                               1\n",
      "See You Again (feat. Kali Uchis)                        1\n",
      "FE!N (feat. Playboi Carti)                              1\n",
      "Slow It Down                                            1\n",
      "Apple                                                   1\n",
      "Alibi (with Pabllo Vittar & Yseult)                     1\n",
      "we can't be friends (wait for your love)                1\n",
      "New Woman (feat. ROSALÍA)                               1\n",
      "The Night We Met                                        1\n",
      "Taste                                                   1\n",
      "Who                                                     1\n",
      "Espresso                                                1\n",
      "Please Please Please                                    1\n",
      "Si Antes Te Hubiera Conocido                            1\n",
      "Good Luck, Babe!                                        1\n",
      "Bed Chem                                                1\n",
      "Beautiful Things                                        1\n",
      "Too Sweet                                               1\n",
      "Big Dawgs                                               1\n",
      "A Bar Song (Tipsy)                                      1\n",
      "Lose Control                                            1\n",
      "Guess featuring Billie Eilish                           1\n",
      "Bye Bye Bye - From Deadpool and Wolverine Soundtrack    1\n",
      "I Had Some Help (Feat. Morgan Wallen)                   1\n",
      "Gata Only                                               1\n",
      "Sweater Weather                                         1\n",
      "UWAIE                                                   1\n",
      "MILLION DOLLAR BABY                                     1\n",
      "One Of The Girls (with JENNIE, Lily Rose Depp)          1\n",
      "Not Like Us                                             1\n",
      "Seven (feat. Latto) (Explicit Ver.)                     1\n",
      "Name: count, dtype: int64\n",
      "\n",
      "Unique values in artist:\n",
      "artist\n",
      "Sabrina Carpenter     6\n",
      "Charli xcx            2\n",
      "Billie Eilish         2\n",
      "Chappell Roan         2\n",
      "Benson Boone          2\n",
      "FloyyMenor            2\n",
      "Myles Smith           1\n",
      "Adam Port             1\n",
      "Djo                   1\n",
      "Coldplay              1\n",
      "Taylor Swift          1\n",
      "Artemas               1\n",
      "Dasha                 1\n",
      "Lady Gaga             1\n",
      "Gracie Abrams         1\n",
      "Sevdaliza             1\n",
      "Maisak                1\n",
      "The Kid LAROI         1\n",
      "The Goo Goo Dolls     1\n",
      "Feid                  1\n",
      "Tyler, The Creator    1\n",
      "Travis Scott          1\n",
      "Arctic Monkeys        1\n",
      "Lord Huron            1\n",
      "Ariana Grande         1\n",
      "LISA                  1\n",
      "Kendrick Lamar        1\n",
      "The Weeknd            1\n",
      "Tommy Richman         1\n",
      "Kapo                  1\n",
      "The Neighbourhood     1\n",
      "Post Malone           1\n",
      "*NSYNC                1\n",
      "Teddy Swims           1\n",
      "Shaboozey             1\n",
      "Hanumankind           1\n",
      "Hozier                1\n",
      "KAROL G               1\n",
      "Jimin                 1\n",
      "Jung Kook             1\n",
      "Name: count, dtype: int64\n"
     ]
    }
   ],
   "source": [
    "#value count for track_id, ensure no duplicates\n",
    "for col in df.select_dtypes(include=['object']).columns:\n",
    "    print(f\"\\nUnique values in {col}:\")\n",
    "    print(df[col].value_counts())"
   ]
  },
  {
   "cell_type": "code",
   "execution_count": 22,
   "id": "4bb24fb9-8d12-4b83-8988-798ae1aaa360",
   "metadata": {},
   "outputs": [],
   "source": [
    "# Convert duration to minutes\n",
    "df['duration_minutes'] = df['duration_ms'] / 60000"
   ]
  },
  {
   "cell_type": "code",
   "execution_count": 24,
   "id": "54fda550-ca86-4b84-b132-5ccca1827378",
   "metadata": {},
   "outputs": [],
   "source": [
    "# Assuming df is your DataFrame\n",
    "features_to_normalize = ['danceability', 'energy', 'loudness', 'speechiness', \n",
    "                         'acousticness', 'instrumentalness', 'liveness', 'valence', 'tempo']\n",
    "scaler = MinMaxScaler()\n",
    "\n",
    "# Fit and transform the selected features\n",
    "normalized_features = scaler.fit_transform(df[features_to_normalize])\n",
    "\n",
    "# Create new column names for the normalized features\n",
    "normalized_column_names = [f\"{feature}_normalized\" for feature in features_to_normalize]\n",
    "\n",
    "# Add the normalized features to the DataFrame\n",
    "df[normalized_column_names] = normalized_features\n"
   ]
  },
  {
   "cell_type": "code",
   "execution_count": 26,
   "id": "7927f776-ec14-45e9-98dc-aa8d29920623",
   "metadata": {},
   "outputs": [
    {
     "name": "stdout",
     "output_type": "stream",
     "text": [
      "    acousticness  acousticness_normalized\n",
      "1        0.20000                 0.205629\n",
      "46       0.03160                 0.031674\n",
      "32       0.00239                 0.001500\n",
      "14       0.01460                 0.014113\n",
      "16       0.01130                 0.010704\n"
     ]
    }
   ],
   "source": [
    "# Select acoustic features and their normalized versions\n",
    "acoustic_features = ['acousticness', 'acousticness_normalized']\n",
    "\n",
    "# Display a sample of 5 rows\n",
    "print(df[acoustic_features].sample(5))"
   ]
  },
  {
   "cell_type": "code",
   "execution_count": 28,
   "id": "1d5b3939-0e0e-4bbb-8a4e-8caa11b8705e",
   "metadata": {},
   "outputs": [
    {
     "name": "stdout",
     "output_type": "stream",
     "text": [
      "       acousticness  acousticness_normalized\n",
      "count     50.000000                50.000000\n",
      "mean       0.162443                 0.166833\n",
      "std        0.198997                 0.205562\n",
      "min        0.000938                 0.000000\n",
      "25%        0.031150                 0.031209\n",
      "50%        0.091550                 0.093601\n",
      "75%        0.215000                 0.221124\n",
      "max        0.969000                 1.000000\n"
     ]
    }
   ],
   "source": [
    "print(df[acoustic_features].describe())"
   ]
  },
  {
   "cell_type": "code",
   "execution_count": 30,
   "id": "7fa18e32-5d7a-4b40-9d5d-c18576978d2b",
   "metadata": {},
   "outputs": [
    {
     "data": {
      "image/png": "[encoded data removed]",
      "text/plain": [
       "<Figure size 640x480 with 1 Axes>"
      ]
     },
     "metadata": {},
     "output_type": "display_data"
    }
   ],
   "source": [
    "df[acoustic_features].boxplot()\n",
    "plt.title('Distribution of Original vs Normalized Acousticness')\n",
    "plt.ylabel('Value')\n",
    "plt.show()"
   ]
  },
  {
   "cell_type": "code",
   "execution_count": 48,
   "id": "eaaaad82-2438-4fd2-89fb-7dabe3a17712",
   "metadata": {},
   "outputs": [
    {
     "name": "stdout",
     "output_type": "stream",
     "text": [
      "Data processing complete. Processed data saved to 'spotify_tracks_processed.db'.\n"
     ]
    }
   ],
   "source": [
    "# Save the processed data back to the database\n",
    "conn = sqlite3.connect('../data/spotify_tracks_processed.db')\n",
    "df.to_sql('tracks_processed', conn, if_exists='replace', index=False)\n",
    "conn.close()\n",
    "\n",
    "print(\"Data processing complete. Processed data saved to 'spotify_tracks_processed.db'.\")"
   ]
  },
  {
   "cell_type": "code",
   "execution_count": 32,
   "id": "7f2fee33-aefd-4025-ba86-b6bc7d3a3d28",
   "metadata": {},
   "outputs": [],
   "source": [
    "df.to_csv('../data/spotify_tracks_processed.csv', index=False)"
   ]
  },
  {
   "cell_type": "code",
   "execution_count": null,
   "id": "d0a9323d-7737-4a90-a395-da7562810453",
   "metadata": {},
   "outputs": [],
   "source": []
  }
 ],
 "metadata": {
  "kernelspec": {
   "display_name": "Python 3 (ipykernel)",
   "language": "python",
   "name": "python3"
  },
  "language_info": {
   "codemirror_mode": {
    "name": "ipython",
    "version": 3
   },
   "file_extension": ".py",
   "mimetype": "text/x-python",
   "name": "python",
   "nbconvert_exporter": "python",
   "pygments_lexer": "ipython3",
   "version": "3.10.13"
  }
 },
 "nbformat": 4,
 "nbformat_minor": 5
}
